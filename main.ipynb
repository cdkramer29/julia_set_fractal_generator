{
 "cells": [
  {
   "cell_type": "code",
   "execution_count": 1,
   "id": "f8c74b36",
   "metadata": {},
   "outputs": [
    {
     "name": "stdout",
     "output_type": "stream",
     "text": [
      "pygame 2.6.1 (SDL 2.28.4, Python 3.12.10)\n",
      "Hello from the pygame community. https://www.pygame.org/contribute.html\n"
     ]
    }
   ],
   "source": [
    "import numpy as np\n",
    "import pygame as pg\n",
    "import time\n",
    "import matplotlib.pyplot as plt"
   ]
  },
  {
   "cell_type": "code",
   "execution_count": 2,
   "id": "f9f4987a",
   "metadata": {},
   "outputs": [],
   "source": [
    "def run(screen):\n",
    "    running = True\n",
    "    clock = pg.time.Clock()\n",
    "    pg.display.flip()\n",
    "    screen.fill('black')\n",
    "    for event in pg.event.get():\n",
    "        if event.type == pg.quit:\n",
    "            running = False\n",
    "        \n",
    "    keys = pg.key.get_pressed()\n",
    "    if keys[pg.K_ESCAPE] or keys[pg.K_q]:\n",
    "        running = False\n",
    "        \n",
    "    dt = clock.tick(60)\n",
    "\n",
    "    return running\n",
    "\n",
    "def window_init(size=(1280,720)):\n",
    "    pg.init()\n",
    "    screen = pg.display.set_mode(size)\n",
    "    font = pg.font.SysFont('Arial', 24)\n",
    "    return screen, font\n",
    "\n",
    "def handle_mouse():\n",
    "    pos = pg.mouse.get_pos()\n",
    "    click = pg.mouse.get_pressed()[0]\n",
    "    return pos, click\n",
    "\n"
   ]
  },
  {
   "cell_type": "code",
   "execution_count": 5,
   "id": "77c7f67a",
   "metadata": {},
   "outputs": [],
   "source": [
    "# math functions\n",
    "\n",
    "def generate_imaginary_matrix(size=(10,10), x_range=(-1,1), y_range=(-1,1)):\n",
    "    points = []\n",
    "    for y in np.linspace(y_range[0], y_range[1], size[1]):\n",
    "        for x in np.linspace(x_range[0], x_range[1], size[0]):\n",
    "            points.append(complex(x, y))\n",
    "    return np.array(points)\n",
    "\n",
    "def convert_array_to_pixels(array, size, color=(255, 255, 255)):\n",
    "\n",
    "    # get min/max to scale points\n",
    "    min = np.amin(array)\n",
    "    max = np.amax(array)\n",
    "    array = np.multiply(array - min, 1/(max - min))\n",
    "    \n",
    "    # convert 1D array into 2D pixel array\n",
    "    a = []\n",
    "    iter = 0\n",
    "    for yy in range(0, size[1]):\n",
    "        a_row = []\n",
    "        for xx in range(0, size[0]):\n",
    "            val = array[iter]\n",
    "            a_row.append((color[0]*val, color[1]*val, color[2]*val))\n",
    "            iter = iter + 1\n",
    "        a.append(a_row)\n",
    "    return np.flipud(np.rot90(a))\n",
    "\n",
    "# same here, seems to simplify some stuff but it goes yellow\n",
    "def julia_set_points(m, func, r=1.5, c=0, max_iter=50):\n",
    "\n",
    "    # generate initial arrays\n",
    "    z = m\n",
    "    i = np.array([0]*len(z))\n",
    "    \n",
    "    # run iteration\n",
    "    for n in range(0, max_iter):\n",
    "        y = abs(z) < r\n",
    "        z = y * func(z, c)\n",
    "        i = i + (n * ((y == False) * (i == 0)))\n",
    "    return i\n",
    "\n",
    "def screen_to_axis(screen_size, screen_point, x_range, y_range):\n",
    "    x = (screen_point[0] - screen_size[0]/2) * ((x_range[1] - x_range[0])/screen_size[0])\n",
    "    y = (screen_point[1] - screen_size[1]/2) * ((y_range[1] - y_range[0])/screen_size[1]) * -1\n",
    "    return (round(x,2), round(y,2))"
   ]
  },
  {
   "cell_type": "code",
   "execution_count": 4,
   "id": "c10f1316",
   "metadata": {},
   "outputs": [],
   "source": [
    "# previous method that I know works\n",
    "\n",
    "def julia_set_points(m, r=1.5, c=0, max_iter=50):\n",
    "\n",
    "    # define function\n",
    "    func = lambda z, c: z**2 + c # julia set of z^2 + c\n",
    "    #func = lambda z, c: z - c*((z**3 - 1)/(3 * z**2)) # newtons fractal for z^3 - 1, kind of\n",
    "    #func = lambda z, c: z - c*((z**4 - z - 1)/(3*z**3 - 1)) # newtons fractal for z^3 - 1, kind of\n",
    "    #func = lambda z, c: z - ((z**3 - 1)/(3*z**2)) + c # nova fractal?\n",
    "\n",
    "\n",
    "    # generate initial arrays\n",
    "    z = m\n",
    "    i = np.array([0]*len(z))\n",
    "    b = np.array([1]*len(z))\n",
    "    \n",
    "    # run iteration\n",
    "    for n in range(0, max_iter):\n",
    "        zz = func(z, c)\n",
    "        y = abs(zz) < r\n",
    "        b = b * y\n",
    "        z = b * zz\n",
    "        i = i + (n * ((y == False) * (i == 0)))\n",
    "    return i"
   ]
  },
  {
   "cell_type": "code",
   "execution_count": 43,
   "id": "495c5aa9",
   "metadata": {},
   "outputs": [],
   "source": [
    "size = (200, 200)\n",
    "\n",
    "x_range=(-1.5,1.5)\n",
    "y_range=(-1.5,1.5)\n",
    "\n",
    "c = 0 - 0j\n",
    "max_iter = 30\n",
    "r = 2.5\n",
    "\n",
    "func = lambda z, c: z**2 + c # julia set of z^2 + c\n",
    "#func = lambda z, c: z - c*((z**3 - 1)/(3 * z**2)) # newtons fractal for z^3 - 1, kind of\n",
    "#func = lambda z, c: z - c*((z**4 - z - 1)/(3*z**3 - 1)) # newtons fractal for z^3 - 1, kind of\n",
    "#func = lambda z, c: z - ((z**3 - 1)/(3*z**2)) + c # nova fractal?"
   ]
  },
  {
   "cell_type": "code",
   "execution_count": 44,
   "id": "01db0c5b",
   "metadata": {},
   "outputs": [],
   "source": [
    "screen, font = window_init(size)\n",
    "\n",
    "BLU = (0, 0, 255)\n",
    "RED = (255, 0, 0)\n",
    "GRN = (0, 255, 0)\n",
    "WHITE = (255, 255, 255)\n",
    "\n",
    "color = GRN\n",
    "\n",
    "m = generate_imaginary_matrix(size=size, x_range=x_range, y_range=y_range)\n",
    "i = julia_set_points(m=m, func=func, c=c, max_iter=max_iter)\n",
    "a = convert_array_to_pixels(i, size, color=color)\n",
    "\n",
    "while run(screen):\n",
    "    pos, click = handle_mouse()\n",
    "    pos = screen_to_axis(pg.display.get_window_size(), pos, x_range=x_range, y_range=y_range)\n",
    "    if click:\n",
    "        i = julia_set_points(m=m, func=func, c=complex(pos[0], pos[1]), max_iter=max_iter, r=r)\n",
    "        a = convert_array_to_pixels(i, size, color=color)\n",
    "    pg.surfarray.blit_array(screen, a)\n",
    "    text = font.render(str(pos), True, 'white')\n",
    "    screen.blit(text, (0,0))\n",
    "pg.quit()"
   ]
  },
  {
   "cell_type": "code",
   "execution_count": 20,
   "id": "2d148687",
   "metadata": {},
   "outputs": [],
   "source": [
    "pg.quit()"
   ]
  },
  {
   "cell_type": "code",
   "execution_count": 380,
   "id": "daaa36c9",
   "metadata": {},
   "outputs": [
    {
     "data": {
      "image/png": "[encoded data removed]",
      "text/plain": [
       "<Figure size 640x480 with 2 Axes>"
      ]
     },
     "metadata": {},
     "output_type": "display_data"
    }
   ],
   "source": [
    "# try imshow\n",
    "\n",
    "a = []\n",
    "iter = 0\n",
    "for yy in range(1, size[1]):\n",
    "    a_row = []\n",
    "    for xx in range(0, size[0]):\n",
    "        a_row.append(i[iter])\n",
    "        iter = iter + 1\n",
    "    a.append(a_row)\n",
    "a = np.array(a)\n",
    "\n",
    "# Display the array as an image\n",
    "plt.imshow(a, cmap='bwr', interpolation='nearest')\n",
    "plt.colorbar()  \n",
    "plt.show()"
   ]
  }
 ],
 "metadata": {
  "kernelspec": {
   "display_name": "Python 3",
   "language": "python",
   "name": "python3"
  },
  "language_info": {
   "codemirror_mode": {
    "name": "ipython",
    "version": 3
   },
   "file_extension": ".py",
   "mimetype": "text/x-python",
   "name": "python",
   "nbconvert_exporter": "python",
   "pygments_lexer": "ipython3",
   "version": "3.12.10"
  }
 },
 "nbformat": 4,
 "nbformat_minor": 5
}
